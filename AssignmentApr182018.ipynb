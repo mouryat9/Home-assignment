{
 "cells": [
  {
   "cell_type": "code",
   "execution_count": 11,
   "metadata": {
    "scrolled": true
   },
   "outputs": [
    {
     "name": "stdout",
     "output_type": "stream",
     "text": [
      "please enter the no of students10\n",
      "Enter the Roll no1\n",
      "Enter the namemourya\n",
      "Enter the Roll no2\n",
      "Enter the namemonica\n",
      "Enter the Roll no3\n",
      "Enter the namerahul\n",
      "Enter the Roll no4\n",
      "Enter the namerohit\n",
      "Enter the Roll no5\n",
      "Enter the namegautham\n",
      "Enter the Roll no6\n",
      "Enter the namemadhu\n",
      "Enter the Roll no7\n",
      "Enter the namevaishnav\n",
      "Enter the Roll no8\n",
      "Enter the namevishnu\n",
      "Enter the Roll no9\n",
      "Enter the namemonish\n",
      "Enter the Roll no10\n",
      "Enter the nameshamala\n",
      "('1', 'mourya')\n",
      "('2', 'monica')\n",
      "('3', 'rahul')\n",
      "('4', 'rohit')\n",
      "('5', 'gautham')\n",
      "('6', 'madhu')\n",
      "('7', 'vaishnav')\n",
      "('8', 'vishnu')\n",
      "('9', 'monish')\n",
      "('10', 'shamala')\n"
     ]
    }
   ],
   "source": [
    "#program 1\n",
    "my_dict = {}\n",
    "\n",
    "n = int(input(\"please enter the no of students\"))\n",
    "\n",
    "for i in range(0,n):\n",
    "    num=input(\"Enter the Roll no\")\n",
    "    \n",
    "    \n",
    "    name=input(\"Enter the name\")\n",
    "    my_dict[num]=name\n",
    "\n",
    "for j in my_dict.items():\n",
    "    \n",
    "    print(j)\n"
   ]
  },
  {
   "cell_type": "code",
   "execution_count": 2,
   "metadata": {},
   "outputs": [
    {
     "name": "stdout",
     "output_type": "stream",
     "text": [
      "Concatenated dictionary is:\n",
      "{1: 'A', 2: 'B', 3: 'C', 4: 'D'}\n"
     ]
    }
   ],
   "source": [
    "#program 2\n",
    "d1={1:'A',2:'B'}\n",
    "d2={3:'C', 4 :'D'}\n",
    "d1.update(d2)\n",
    "print(\"Concatenated dictionary is:\")\n",
    "print(d1)\n"
   ]
  },
  {
   "cell_type": "code",
   "execution_count": 3,
   "metadata": {},
   "outputs": [
    {
     "name": "stdout",
     "output_type": "stream",
     "text": [
      "Please Enter the key to be searched2\n",
      "2   ball\n"
     ]
    }
   ],
   "source": [
    "#program 3\n",
    "my_dict = {1:'apple', 2:'ball'}\n",
    "key=int(input(\"Please Enter the key to be searched\"))\n",
    "check=0\n",
    "for i in my_dict.keys():\n",
    "    if(key==i):\n",
    "        check=1\n",
    "        print(i , \" \" ,my_dict[i])\n",
    "if(check==0):\n",
    "    print(\"Not found\")"
   ]
  },
  {
   "cell_type": "code",
   "execution_count": 4,
   "metadata": {},
   "outputs": [
    {
     "name": "stdout",
     "output_type": "stream",
     "text": [
      "Enter a number:3\n",
      "{1: 1, 2: 4, 3: 9}\n"
     ]
    }
   ],
   "source": [
    "#Program 4\n",
    "num=int(input(\"Enter a number:\"))\n",
    "dict={x:x*x for x in range(1,num+1)}\n",
    "print(dict)\n"
   ]
  },
  {
   "cell_type": "code",
   "execution_count": 5,
   "metadata": {},
   "outputs": [
    {
     "name": "stdout",
     "output_type": "stream",
     "text": [
      "11406\n"
     ]
    }
   ],
   "source": [
    "#Program 5\n",
    "dict = {1:5643,2:3456,3:2307}\n",
    "print(sum(dict.values()))"
   ]
  },
  {
   "cell_type": "code",
   "execution_count": 6,
   "metadata": {},
   "outputs": [
    {
     "name": "stdout",
     "output_type": "stream",
     "text": [
      "49680\n"
     ]
    }
   ],
   "source": [
    "#Program 6\n",
    "dict={'A':69,'B':45,'C':16}\n",
    "s=1\n",
    "for i in dict:    \n",
    "    s=s*dict[i]\n",
    "print(s)\n"
   ]
  },
  {
   "cell_type": "code",
   "execution_count": 7,
   "metadata": {
    "scrolled": true
   },
   "outputs": [
    {
     "name": "stdout",
     "output_type": "stream",
     "text": [
      "('Italy', 'pizza')\n",
      "('Germany', 'sauerkraut')\n",
      "('Spain', 'paella')\n",
      "('USA', 'Hamburger')\n"
     ]
    }
   ],
   "source": [
    "#program 7\n",
    "countries = [\"Italy\", \"Germany\", \"Spain\", \"USA\", \"Switzerland\"]\n",
    "dishes = [\"pizza\", \"sauerkraut\", \"paella\", \"Hamburger\"]\n",
    "country_specialities = zip(countries,dishes)\n",
    "\n",
    "for i in country_specialities:\n",
    "    print(i)\n",
    "    "
   ]
  },
  {
   "cell_type": "code",
   "execution_count": 8,
   "metadata": {},
   "outputs": [
    {
     "name": "stdout",
     "output_type": "stream",
     "text": [
      "Enter string:hello world hello india\n",
      "('hello', 2)\n",
      "('world', 1)\n",
      "('hello', 2)\n",
      "('india', 1)\n"
     ]
    }
   ],
   "source": [
    "#program 8\n",
    "str=input(\"Enter string:\")\n",
    "pe=[]\n",
    "pe=str.split()\n",
    "total=[pe.count(p) for p in pe]\n",
    "my_dict=zip(pe,total)\n",
    "for i in my_dict:\n",
    "    print(i)\n"
   ]
  },
  {
   "cell_type": "code",
   "execution_count": 9,
   "metadata": {},
   "outputs": [
    {
     "name": "stdout",
     "output_type": "stream",
     "text": [
      "please enter the no of entries3\n",
      "Enter the stringmourya\n",
      "Enter the stringkaran\n",
      "Enter the stringrahul\n",
      "('m', 'mourya')\n",
      "('k', 'karan')\n",
      "('r', 'rahul')\n"
     ]
    }
   ],
   "source": [
    "#program 9\n",
    "my_dict = {}\n",
    "\n",
    "n = int(input(\"please enter the no of entries\"))\n",
    "\n",
    "for i in range(0,n):\n",
    "    \n",
    "    \n",
    "    name=input(\"Enter the string\")\n",
    "    my_dict[name[0]]=name\n",
    "\n",
    "for j in my_dict.items():\n",
    "    \n",
    "    print(j)"
   ]
  },
  {
   "cell_type": "code",
   "execution_count": 10,
   "metadata": {},
   "outputs": [
    {
     "name": "stdout",
     "output_type": "stream",
     "text": [
      "please enter the no of students3\n",
      "Enter the namemourya\n",
      "Enter the marks99\n",
      "Enter the namemonica\n",
      "Enter the marks100\n",
      "Enter the namemadhu\n",
      "Enter the marks35\n",
      "100\n",
      "35\n",
      "99\n"
     ]
    }
   ],
   "source": [
    "#program 10\n",
    "my_dict = {}\n",
    "\n",
    "n = int(input(\"please enter the no of students\"))\n",
    "\n",
    "for i in range(0,n):\n",
    "  \n",
    "    \n",
    "    name=input(\"Enter the name\")\n",
    "    \n",
    "    \n",
    "    marks=input(\"Enter the marks\")\n",
    "    my_dict[name]=marks\n",
    "\n",
    "for j in sorted(my_dict.values()):\n",
    "    \n",
    "    print(j)\n"
   ]
  },
  {
   "cell_type": "code",
   "execution_count": null,
   "metadata": {},
   "outputs": [],
   "source": []
  },
  {
   "cell_type": "code",
   "execution_count": null,
   "metadata": {},
   "outputs": [],
   "source": []
  }
 ],
 "metadata": {
  "kernelspec": {
   "display_name": "Python 3",
   "language": "python",
   "name": "python3"
  },
  "language_info": {
   "codemirror_mode": {
    "name": "ipython",
    "version": 3
   },
   "file_extension": ".py",
   "mimetype": "text/x-python",
   "name": "python",
   "nbconvert_exporter": "python",
   "pygments_lexer": "ipython3",
   "version": "3.6.4"
  }
 },
 "nbformat": 4,
 "nbformat_minor": 2
}
