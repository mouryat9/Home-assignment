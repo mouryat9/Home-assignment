{
 "cells": [
  {
   "cell_type": "code",
   "execution_count": 50,
   "metadata": {},
   "outputs": [],
   "source": [
    "import numpy as np\n",
    "import pandas as pd\n",
    "from sklearn.cross_validation import train_test_split\n",
    "\n",
    "datafile =open(\"D:\\spambase.data.txt\")\n",
    "data =[]\n",
    "\n",
    "for line in datafile:\n",
    "    line =[float(element) for element in line.rstrip('\\n').split(',')]\n",
    "    data.append(np.asarray(line))\n",
    "    "
   ]
  },
  {
   "cell_type": "code",
   "execution_count": 51,
   "metadata": {},
   "outputs": [],
   "source": [
    "num_features=48\n",
    "X=[data[i][:num_features] for i in range(len(data))]\n",
    "y=[int(data[i][-1]) for i in range(len(data))]"
   ]
  },
  {
   "cell_type": "code",
   "execution_count": 52,
   "metadata": {},
   "outputs": [],
   "source": [
    "X_train  , X_test , y_train , y_test = train_test_split(X,y,test_size=0.25)\n",
    "\n",
    "X_train_class_0 = [X_train[i] for i in range(len(X_train)) if y_train[i]==0]\n",
    "X_train_class_1 = [X_train[i] for i in range(len(X_train)) if y_train[i]==1]"
   ]
  },
  {
   "cell_type": "code",
   "execution_count": 53,
   "metadata": {},
   "outputs": [],
   "source": [
    "likelihoods_class_0 = np.mean(X_train_class_0,axis=0)/100.0\n",
    "likelihoods_class_1 = np.mean(X_train_class_1,axis=0)/100.0\n"
   ]
  },
  {
   "cell_type": "code",
   "execution_count": 54,
   "metadata": {},
   "outputs": [],
   "source": [
    "\n",
    "def calculate_log_likelihoods_with_naive_bayes(feature_vector, Class):\n",
    "    assert len(feature_vector)==num_features\n",
    "    log_likelihood=0.0\n",
    "    if Class==0:\n",
    "        for feature_index in range(len(feature_vector)):\n",
    "            if feature_vector[feature_index] ==1:\n",
    "                log_likelihood == np.log10(likelihoods_class_0[feature_index])\n",
    "            elif feature_vector[feature_index] ==0:\n",
    "                log_likelihood == np.log10(1.0,likelihoods_class_0[feature_index])\n",
    "    elif Class==1:\n",
    "        for feature_index in range(len(feature_vector)):\n",
    "            if feature_vector[feature_index] ==1:\n",
    "                log_likelihood = np.log10(likelihoods_class_0[feature_index])\n",
    "            elif feature_vector[feature_index] ==0:\n",
    "                log_likelihood = np.log10(1.0,likelihoods_class_0[feature_index])\n",
    "    else:\n",
    "        raise ValueError(\" class takes integer value 0 or 1\")\n",
    "    \n",
    "    return [log_likelihood]"
   ]
  },
  {
   "cell_type": "code",
   "execution_count": 55,
   "metadata": {},
   "outputs": [],
   "source": [
    " # calculate prior probabilities for classes\n",
    "\n",
    "num_class_0 = float(len(X_train_class_0))\n",
    "num_class_1 = float(len(X_train_class_1))\n",
    "\n",
    "prior_probability_class_0 = num_class_0 / (num_class_0 + num_class_1)\n",
    "prior_probability_class_1 = num_class_1 / (num_class_0 + num_class_1)\n",
    "\n",
    "log_prior_class_0 = np.log10(prior_probability_class_0)\n",
    "log_prior_class_1 = np.log10(prior_probability_class_1)"
   ]
  },
  {
   "cell_type": "code",
   "execution_count": 56,
   "metadata": {},
   "outputs": [],
   "source": [
    "def calculate_class_posteriors(feature_vector):\n",
    "    log_likelihood_class0 = calculate_log_likelihoods_with_naive_bayes(feature_vector, Class=0)\n",
    "    log_likelihood_class1 = calculate_log_likelihoods_with_naive_bayes(feature_vector, Class=1)\n",
    "    \n",
    "    log_posteriror_class_0 = log_likelihood_class_0 +log_prior_class_0\n",
    "    log_posteriror_class_1 = log_likelihood_class_1 +log_prior_class_1\n",
    "    \n",
    "    return log_posterior_class_0,log_posterior_class_1"
   ]
  },
  {
   "cell_type": "code",
   "execution_count": 57,
   "metadata": {},
   "outputs": [],
   "source": [
    "def classify_spam(document_vector):\n",
    "    feature_vector = [int(element>0.0) for element in document_vector]\n",
    "    log_posterior_class_0, log_posterior_class_1 = calculate_class_posteriors(feature_vector)\n",
    "    if(log_posteriror_class_0 > log_posteriro_class_1):\n",
    "        return 0\n",
    "    else:\n",
    "        return 1"
   ]
  },
  {
   "cell_type": "code",
   "execution_count": 58,
   "metadata": {},
   "outputs": [
    {
     "ename": "TypeError",
     "evalue": "return arrays must be of ArrayType",
     "output_type": "error",
     "traceback": [
      "\u001b[1;31m---------------------------------------------------------------------------\u001b[0m",
      "\u001b[1;31mTypeError\u001b[0m                                 Traceback (most recent call last)",
      "\u001b[1;32m<ipython-input-58-83b8c9ec75bf>\u001b[0m in \u001b[0;36m<module>\u001b[1;34m()\u001b[0m\n\u001b[0;32m      2\u001b[0m \u001b[1;33m\u001b[0m\u001b[0m\n\u001b[0;32m      3\u001b[0m \u001b[1;32mfor\u001b[0m \u001b[0memail\u001b[0m \u001b[1;32min\u001b[0m \u001b[0mX_test\u001b[0m\u001b[1;33m:\u001b[0m\u001b[1;33m\u001b[0m\u001b[0m\n\u001b[1;32m----> 4\u001b[1;33m     \u001b[0mpredictions\u001b[0m\u001b[1;33m.\u001b[0m\u001b[0mappend\u001b[0m\u001b[1;33m(\u001b[0m\u001b[0mclassify_spam\u001b[0m\u001b[1;33m(\u001b[0m\u001b[0memail\u001b[0m\u001b[1;33m)\u001b[0m\u001b[1;33m)\u001b[0m\u001b[1;33m\u001b[0m\u001b[0m\n\u001b[0m",
      "\u001b[1;32m<ipython-input-57-e2b458fab863>\u001b[0m in \u001b[0;36mclassify_spam\u001b[1;34m(document_vector)\u001b[0m\n\u001b[0;32m      1\u001b[0m \u001b[1;32mdef\u001b[0m \u001b[0mclassify_spam\u001b[0m\u001b[1;33m(\u001b[0m\u001b[0mdocument_vector\u001b[0m\u001b[1;33m)\u001b[0m\u001b[1;33m:\u001b[0m\u001b[1;33m\u001b[0m\u001b[0m\n\u001b[0;32m      2\u001b[0m     \u001b[0mfeature_vector\u001b[0m \u001b[1;33m=\u001b[0m \u001b[1;33m[\u001b[0m\u001b[0mint\u001b[0m\u001b[1;33m(\u001b[0m\u001b[0melement\u001b[0m\u001b[1;33m>\u001b[0m\u001b[1;36m0.0\u001b[0m\u001b[1;33m)\u001b[0m \u001b[1;32mfor\u001b[0m \u001b[0melement\u001b[0m \u001b[1;32min\u001b[0m \u001b[0mdocument_vector\u001b[0m\u001b[1;33m]\u001b[0m\u001b[1;33m\u001b[0m\u001b[0m\n\u001b[1;32m----> 3\u001b[1;33m     \u001b[0mlog_posterior_class_0\u001b[0m\u001b[1;33m,\u001b[0m \u001b[0mlog_posterior_class_1\u001b[0m \u001b[1;33m=\u001b[0m \u001b[0mcalculate_class_posteriors\u001b[0m\u001b[1;33m(\u001b[0m\u001b[0mfeature_vector\u001b[0m\u001b[1;33m)\u001b[0m\u001b[1;33m\u001b[0m\u001b[0m\n\u001b[0m\u001b[0;32m      4\u001b[0m     \u001b[1;32mif\u001b[0m\u001b[1;33m(\u001b[0m\u001b[0mlog_posteriror_class_0\u001b[0m \u001b[1;33m>\u001b[0m \u001b[0mlog_posteriro_class_1\u001b[0m\u001b[1;33m)\u001b[0m\u001b[1;33m:\u001b[0m\u001b[1;33m\u001b[0m\u001b[0m\n\u001b[0;32m      5\u001b[0m         \u001b[1;32mreturn\u001b[0m \u001b[1;36m0\u001b[0m\u001b[1;33m\u001b[0m\u001b[0m\n",
      "\u001b[1;32m<ipython-input-56-6e2cba13568d>\u001b[0m in \u001b[0;36mcalculate_class_posteriors\u001b[1;34m(feature_vector)\u001b[0m\n\u001b[0;32m      1\u001b[0m \u001b[1;32mdef\u001b[0m \u001b[0mcalculate_class_posteriors\u001b[0m\u001b[1;33m(\u001b[0m\u001b[0mfeature_vector\u001b[0m\u001b[1;33m)\u001b[0m\u001b[1;33m:\u001b[0m\u001b[1;33m\u001b[0m\u001b[0m\n\u001b[1;32m----> 2\u001b[1;33m     \u001b[0mlog_likelihood_class0\u001b[0m \u001b[1;33m=\u001b[0m \u001b[0mcalculate_log_likelihoods_with_naive_bayes\u001b[0m\u001b[1;33m(\u001b[0m\u001b[0mfeature_vector\u001b[0m\u001b[1;33m,\u001b[0m \u001b[0mClass\u001b[0m\u001b[1;33m=\u001b[0m\u001b[1;36m0\u001b[0m\u001b[1;33m)\u001b[0m\u001b[1;33m\u001b[0m\u001b[0m\n\u001b[0m\u001b[0;32m      3\u001b[0m     \u001b[0mlog_likelihood_class1\u001b[0m \u001b[1;33m=\u001b[0m \u001b[0mcalculate_log_likelihoods_with_naive_bayes\u001b[0m\u001b[1;33m(\u001b[0m\u001b[0mfeature_vector\u001b[0m\u001b[1;33m,\u001b[0m \u001b[0mClass\u001b[0m\u001b[1;33m=\u001b[0m\u001b[1;36m1\u001b[0m\u001b[1;33m)\u001b[0m\u001b[1;33m\u001b[0m\u001b[0m\n\u001b[0;32m      4\u001b[0m \u001b[1;33m\u001b[0m\u001b[0m\n\u001b[0;32m      5\u001b[0m     \u001b[0mlog_posteriror_class_0\u001b[0m \u001b[1;33m=\u001b[0m \u001b[0mlog_likelihood_class_0\u001b[0m \u001b[1;33m+\u001b[0m\u001b[0mlog_prior_class_0\u001b[0m\u001b[1;33m\u001b[0m\u001b[0m\n",
      "\u001b[1;32m<ipython-input-54-c9783fccedbb>\u001b[0m in \u001b[0;36mcalculate_log_likelihoods_with_naive_bayes\u001b[1;34m(feature_vector, Class)\u001b[0m\n\u001b[0;32m      8\u001b[0m                 \u001b[0mlog_likelihood\u001b[0m \u001b[1;33m==\u001b[0m \u001b[0mnp\u001b[0m\u001b[1;33m.\u001b[0m\u001b[0mlog10\u001b[0m\u001b[1;33m(\u001b[0m\u001b[0mlikelihoods_class_0\u001b[0m\u001b[1;33m[\u001b[0m\u001b[0mfeature_index\u001b[0m\u001b[1;33m]\u001b[0m\u001b[1;33m)\u001b[0m\u001b[1;33m\u001b[0m\u001b[0m\n\u001b[0;32m      9\u001b[0m             \u001b[1;32melif\u001b[0m \u001b[0mfeature_vector\u001b[0m\u001b[1;33m[\u001b[0m\u001b[0mfeature_index\u001b[0m\u001b[1;33m]\u001b[0m \u001b[1;33m==\u001b[0m\u001b[1;36m0\u001b[0m\u001b[1;33m:\u001b[0m\u001b[1;33m\u001b[0m\u001b[0m\n\u001b[1;32m---> 10\u001b[1;33m                 \u001b[0mlog_likelihood\u001b[0m \u001b[1;33m==\u001b[0m \u001b[0mnp\u001b[0m\u001b[1;33m.\u001b[0m\u001b[0mlog10\u001b[0m\u001b[1;33m(\u001b[0m\u001b[1;36m1.0\u001b[0m\u001b[1;33m,\u001b[0m\u001b[0mlikelihoods_class_0\u001b[0m\u001b[1;33m[\u001b[0m\u001b[0mfeature_index\u001b[0m\u001b[1;33m]\u001b[0m\u001b[1;33m)\u001b[0m\u001b[1;33m\u001b[0m\u001b[0m\n\u001b[0m\u001b[0;32m     11\u001b[0m     \u001b[1;32melif\u001b[0m \u001b[0mClass\u001b[0m\u001b[1;33m==\u001b[0m\u001b[1;36m1\u001b[0m\u001b[1;33m:\u001b[0m\u001b[1;33m\u001b[0m\u001b[0m\n\u001b[0;32m     12\u001b[0m         \u001b[1;32mfor\u001b[0m \u001b[0mfeature_index\u001b[0m \u001b[1;32min\u001b[0m \u001b[0mrange\u001b[0m\u001b[1;33m(\u001b[0m\u001b[0mlen\u001b[0m\u001b[1;33m(\u001b[0m\u001b[0mfeature_vector\u001b[0m\u001b[1;33m)\u001b[0m\u001b[1;33m)\u001b[0m\u001b[1;33m:\u001b[0m\u001b[1;33m\u001b[0m\u001b[0m\n",
      "\u001b[1;31mTypeError\u001b[0m: return arrays must be of ArrayType"
     ]
    }
   ],
   "source": [
    "predictions=[]\n",
    "\n",
    "for email in X_test:\n",
    "    predictions.append(classify_spam(email))"
   ]
  },
  {
   "cell_type": "code",
   "execution_count": 37,
   "metadata": {},
   "outputs": [],
   "source": [
    "def evaluate_performance(predictions , ground_truth_labels):\n",
    "    correct_count = 0.0\n",
    "    for item_index in range(len(predictions)):\n",
    "        if(predictions[item_index]== ground_truth_labels(item_index)):\n",
    "            correct_count +=1.0\n",
    "    accuracy = correct_count/len(predictions)\n",
    "    return accuracy"
   ]
  },
  {
   "cell_type": "code",
   "execution_count": 38,
   "metadata": {},
   "outputs": [
    {
     "ename": "ZeroDivisionError",
     "evalue": "float division by zero",
     "output_type": "error",
     "traceback": [
      "\u001b[1;31m---------------------------------------------------------------------------\u001b[0m",
      "\u001b[1;31mZeroDivisionError\u001b[0m                         Traceback (most recent call last)",
      "\u001b[1;32m<ipython-input-38-e7ce090d6971>\u001b[0m in \u001b[0;36m<module>\u001b[1;34m()\u001b[0m\n\u001b[1;32m----> 1\u001b[1;33m \u001b[0maccuracy_of_naive_bayes\u001b[0m \u001b[1;33m=\u001b[0m \u001b[0mevaluate_performance\u001b[0m\u001b[1;33m(\u001b[0m\u001b[0mpredictions\u001b[0m \u001b[1;33m,\u001b[0m \u001b[0my_test\u001b[0m\u001b[1;33m)\u001b[0m\u001b[1;33m\u001b[0m\u001b[0m\n\u001b[0m\u001b[0;32m      2\u001b[0m \u001b[0mprint\u001b[0m\u001b[1;33m(\u001b[0m\u001b[0maccuracy_of_naive_bayes\u001b[0m\u001b[1;33m)\u001b[0m\u001b[1;33m\u001b[0m\u001b[0m\n",
      "\u001b[1;32m<ipython-input-37-5e98e0d08838>\u001b[0m in \u001b[0;36mevaluate_performance\u001b[1;34m(predictions, ground_truth_labels)\u001b[0m\n\u001b[0;32m      4\u001b[0m         \u001b[1;32mif\u001b[0m\u001b[1;33m(\u001b[0m\u001b[0mpredictions\u001b[0m\u001b[1;33m[\u001b[0m\u001b[0mitem_index\u001b[0m\u001b[1;33m]\u001b[0m\u001b[1;33m==\u001b[0m \u001b[0mground_truth_labels\u001b[0m\u001b[1;33m(\u001b[0m\u001b[0mitem_index\u001b[0m\u001b[1;33m)\u001b[0m\u001b[1;33m)\u001b[0m\u001b[1;33m:\u001b[0m\u001b[1;33m\u001b[0m\u001b[0m\n\u001b[0;32m      5\u001b[0m             \u001b[0mcorrect_count\u001b[0m \u001b[1;33m+=\u001b[0m\u001b[1;36m1.0\u001b[0m\u001b[1;33m\u001b[0m\u001b[0m\n\u001b[1;32m----> 6\u001b[1;33m     \u001b[0maccuracy\u001b[0m \u001b[1;33m=\u001b[0m \u001b[0mcorrect_count\u001b[0m\u001b[1;33m/\u001b[0m\u001b[0mlen\u001b[0m\u001b[1;33m(\u001b[0m\u001b[0mpredictions\u001b[0m\u001b[1;33m)\u001b[0m\u001b[1;33m\u001b[0m\u001b[0m\n\u001b[0m\u001b[0;32m      7\u001b[0m     \u001b[1;32mreturn\u001b[0m \u001b[0maccuracy\u001b[0m\u001b[1;33m\u001b[0m\u001b[0m\n",
      "\u001b[1;31mZeroDivisionError\u001b[0m: float division by zero"
     ]
    }
   ],
   "source": [
    "accuracy_of_naive_bayes = evaluate_performance(predictions , y_test)\n",
    "print(accuracy_of_naive_bayes)"
   ]
  },
  {
   "cell_type": "code",
   "execution_count": null,
   "metadata": {},
   "outputs": [],
   "source": []
  }
 ],
 "metadata": {
  "kernelspec": {
   "display_name": "Python 3",
   "language": "python",
   "name": "python3"
  },
  "language_info": {
   "codemirror_mode": {
    "name": "ipython",
    "version": 3
   },
   "file_extension": ".py",
   "mimetype": "text/x-python",
   "name": "python",
   "nbconvert_exporter": "python",
   "pygments_lexer": "ipython3",
   "version": "3.6.4"
  }
 },
 "nbformat": 4,
 "nbformat_minor": 2
}
